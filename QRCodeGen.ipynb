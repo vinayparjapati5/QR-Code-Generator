{
  "nbformat": 4,
  "nbformat_minor": 0,
  "metadata": {
    "colab": {
      "provenance": [],
      "include_colab_link": true
    },
    "kernelspec": {
      "name": "python3",
      "display_name": "Python 3"
    },
    "language_info": {
      "name": "python"
    }
  },
  "cells": [
    {
      "cell_type": "markdown",
      "metadata": {
        "id": "view-in-github",
        "colab_type": "text"
      },
      "source": [
        "<a href=\"https://colab.research.google.com/github/vinayparjapati5/QR-Code-Generator/blob/main/QRCodeGen.ipynb\" target=\"_parent\"><img src=\"https://colab.research.google.com/assets/colab-badge.svg\" alt=\"Open In Colab\"/></a>"
      ]
    },
    {
      "cell_type": "markdown",
      "source": [
        "---\n",
        "## **Mini Project : QR Code Generator**\n",
        "---"
      ],
      "metadata": {
        "id": "35LR0Fg6itTB"
      }
    },
    {
      "cell_type": "markdown",
      "source": [
        "---\n",
        "### 1. Installing Libraries\n",
        "---"
      ],
      "metadata": {
        "id": "hZpK-9fAi3cA"
      }
    },
    {
      "cell_type": "code",
      "execution_count": 1,
      "metadata": {
        "id": "GV3tYINlbjYx",
        "colab": {
          "base_uri": "https://localhost:8080/"
        },
        "outputId": "9b9ba00e-56e0-40e8-8504-c444689b92d7"
      },
      "outputs": [
        {
          "output_type": "stream",
          "name": "stdout",
          "text": [
            "Pyqrcode & Pypng installed successfully...\n"
          ]
        }
      ],
      "source": [
        "!pip install pyqrcode pypng &> /dev/null\n",
        "print(\"Pyqrcode & Pypng installed successfully...\")"
      ]
    },
    {
      "cell_type": "markdown",
      "source": [
        "---\n",
        "### 2. Main Program\n",
        "---"
      ],
      "metadata": {
        "id": "q216AvOdjSFv"
      }
    },
    {
      "cell_type": "code",
      "source": [
        "'''\n",
        "Python Program to Generate QR Code\n",
        "'''\n",
        "\n",
        "# Import the necessary module!\n",
        "import pyqrcode\n",
        "\n",
        "# Define the data:\n",
        "# We need some text that we want to convert as our QR Code.\n",
        "# Since I am creating the QR Code for my github profile,\n",
        "# I will \"https://github.com/vinayparjapati5\" as data here. Let's store inside a variable.\n",
        "data = \"https://www.linkedin.com/in/vinay-kumar-075899235/\"\n",
        "\n",
        "# Create qrcode:\n",
        "# Now that we have the data with us, we can move forward and\n",
        "# make use of the package we just imported. Let's create an variable.\n",
        "# We will use the create method (as it results in a cleaner looking code) on data.\n",
        "qr = pyqrcode.create(data)\n",
        "\n",
        "# Save the qrcode in png format with proper scaling:\n",
        "# Now let's store it in .png format with proper scaling.\n",
        "qr.png(\"linkedinID.png\", scale= 5)"
      ],
      "metadata": {
        "id": "M9SkWl8Mblkl"
      },
      "execution_count": 2,
      "outputs": []
    }
  ]
}